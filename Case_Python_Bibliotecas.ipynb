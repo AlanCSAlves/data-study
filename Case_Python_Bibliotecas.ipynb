{
  "nbformat": 4,
  "nbformat_minor": 0,
  "metadata": {
    "colab": {
      "name": "Cópia de Case_Python_bibliotecas.ipynb",
      "provenance": []
    },
    "kernelspec": {
      "name": "python3",
      "display_name": "Python 3"
    },
    "language_info": {
      "name": "python"
    }
  },
  "cells": [
    {
      "cell_type": "markdown",
      "source": [
        "**Case - Bibliotecas**"
      ],
      "metadata": {
        "id": "GOtrIPfpCnYy"
      }
    },
    {
      "cell_type": "markdown",
      "source": [
        "Na era digital em que se vive atualmente, principalmente durante e pós a Pandemia, a utilização da internet na coleta de dados, troca de comunicações e criação de novas operações dentro da nuvem (online). Com esse advento da necessidade de internet no nosso dia a dia, diversas novas empresas veem surgindo ao longo do mundo, oferecendo novos pacotes mais baratos e mais acessíveis a toda população.\n",
        "\n",
        "Neste contexto, você utilizando o dataset [Internet Prices around 200+ countries in 2022](https://www.kaggle.com/datasets/ramjasmaurya/1-gb-internet-price?resource=download), onde consta o levantamento de dados acerca dos planos de internet e população de mais de 200 países. Seu objetivo é ler e entender os 3 datasets apresentados, que se completam em dados e informações. Ao final desse entendimento, responder  as 10 perguntas abaixo:\n",
        "* 1 - Quantas empresas foram consultadas?\n",
        "* 2 - Calcule a [Variação percentual](https://calculadorajuroscompostos.com.br/como-calcular-a-variacao-percentual-entre-dois-valores/#:~:text=Para%20calcularmos%20a%20varia%C3%A7%C3%A3o%20percentual,maior%2C%20teremos%20uma%20redu%C3%A7%C3%A3o%20percentual) entre o preço médio da internet entre o início 2020 e 2021, usando como base o preço de 2021.\n",
        "* 3 - Calcule o preço médio geral da internet dos países que sejam da SOUTH AMERICA. Dica: 1 - Se dejesa filtrar uma dataframe por um valor de uma coluna basta você fazer df[df['Nome da coluna'] == valor].2 - Não calcule a média da média de preços, você deve descobrir a soma total dos preços destes países e depois dividir pelo número total de planos.\n",
        "* 4 - Dos países que foram avaliados, qual os 5 países que tem a maior taxa de usabilidade de internet em relação a população?\n",
        "* 5 - Faça um gráfico que mostre o número de países que apresentem uma taxa de usabilidade maior que 75% agrupados por Continente?\n",
        "* 6 - Calcule a amplitude de preço entre os planos de internet. Dica: Amplitude é calculado como Maior valor - Menor valor.\n",
        "* 7 - Usando somente o [seabron](https://seaborn.pydata.org/) e [matplotlib](https://matplotlib.org/), construa um gráfico que mostre o valor médio, máximo e mínimo dos maiores preços para cada região.\n",
        "* 8 - Supondo que a gente more no Reino Unido (United Kingdom), usando a velocidade média e o preço médio, quantos Dolares eu pagaria se utiliza-se uma hora de internet?. Dica 1: 1 Mbits = 0,000125 Gigabytes. Dica 2: Filtre o dataframe conforme mencionado acima, crie uma variável com valor que aparecer na coluna ou utilize o método pandas [iloc](https://pandas.pydata.org/docs/reference/api/pandas.DataFrame.iloc.html).\n",
        "* 9 - Utilizando os mesmos parâmetros da etapa anterior, supondo que você seja um dono de uma empresa que precisa instalar a internet no prédio e precisa fazer um orçamento. A empresa responsável disse que se você contratar um pacote até 50000Gb por dia é 300 Dolares, até 65000 é 350 Dolares e acima disso é 450 Dolares. Supondo que você tenha 300 funcionários, trabalhando 8 horas no dia, qual plano seria ideal para você?\n",
        "* 10 - Somente com uma visualização gráfica, comparando o preço médio em 2020 e 2021, com uma linha de tendência (Gráfico identidade x = y), conclusa se o preço médio da internet ficou mais barato ou caro de 2020 para 2021.\n",
        "\n",
        "\n",
        "\n",
        "\n",
        "\n",
        "Instruções primordiais: Alguns dados estão ausentes nos 3 datasets, mas representam pouco perto da análise total. Portanto, utilize os 3 datasets fornecidos (df1,df2,df3). \n",
        "\n",
        "df1 - Descritivo das colunas do dataset:\n",
        "\n",
        "* country_code - Country code\n",
        "* country_name - Country Name\n",
        "* country_continental - Continental region\n",
        "* num_internet_plans - Num. of internet Plans\n",
        "* avg_price - Average price of 1GB (USD\n",
        "* min_price - Cheapest 1GB for 30 days (USD)\n",
        "* max_price - Most expensive 1GB (USD)\n",
        "* avg_price_start_2021 - Average price of 1GB (USD  at the start of 2021)\n",
        "* avg_price_start_2020 - Average price of 1GB (USD – at start of 2020)\n",
        "\n",
        "\n",
        "df2 - Descritivo das colunas do dataset:\n",
        "\n",
        "* country_name - Country Name\n",
        "* avg_speed - Avg speed in (Mbit/s) by Ookla\n",
        "\n",
        "\n",
        "df3 - Descritivo das colunas do dataset:\n",
        "\n",
        "* country_name - Country Name\n",
        "* country_subregion - Country subregion\n",
        "* country_region - Continental region\n",
        "* internet_users - Num. of people who uses internet Plans\n",
        "* population - population of country\n",
        "\n",
        "\n",
        "\n"
      ],
      "metadata": {
        "id": "HCcU6PIOCtNW"
      }
    },
    {
      "cell_type": "code",
      "source": [
        "import numpy as np\n",
        "import pandas as pd\n",
        "import matplotlib.pyplot as plt\n",
        "import seaborn as sns\n",
        "\n",
        "df1 = pd.read_csv('df1.csv', sep = ',')\n",
        "df2 = pd.read_csv('df2.csv', sep = ',')\n",
        "df3 = pd.read_csv('df3.csv', sep = ',')\n"
      ],
      "metadata": {
        "id": "T56YrxRdDh9p"
      },
      "execution_count": null,
      "outputs": []
    },
    {
      "cell_type": "markdown",
      "source": [
        "1º Questão: Quantas empresas foram consultadas?"
      ],
      "metadata": {
        "id": "-WEbssrkHlMz"
      }
    },
    {
      "cell_type": "code",
      "source": [
        "df1.info()"
      ],
      "metadata": {
        "id": "zWw46X0FHkjv",
        "outputId": "abf5d129-0760-4bb7-ecd7-2a46770112e5",
        "colab": {
          "base_uri": "https://localhost:8080/"
        }
      },
      "execution_count": null,
      "outputs": [
        {
          "output_type": "stream",
          "name": "stdout",
          "text": [
            "<class 'pandas.core.frame.DataFrame'>\n",
            "RangeIndex: 224 entries, 0 to 223\n",
            "Data columns (total 10 columns):\n",
            " #   Column                Non-Null Count  Dtype  \n",
            "---  ------                --------------  -----  \n",
            " 0   Unnamed: 0            224 non-null    int64  \n",
            " 1   country_code          224 non-null    object \n",
            " 2   country_name          224 non-null    object \n",
            " 3   country_continental   224 non-null    object \n",
            " 4   num_internet_plans    224 non-null    float64\n",
            " 5   avg_price             224 non-null    float64\n",
            " 6   min_price             224 non-null    float64\n",
            " 7   max_price             224 non-null    float64\n",
            " 8   avg_price_start_2021  224 non-null    float64\n",
            " 9   avg_price_start_2020  224 non-null    float64\n",
            "dtypes: float64(6), int64(1), object(3)\n",
            "memory usage: 17.6+ KB\n"
          ]
        }
      ]
    },
    {
      "cell_type": "code",
      "source": [
        "df1['num_internet_plans'].sum()"
      ],
      "metadata": {
        "id": "EHxOgUnlEgw_",
        "outputId": "3d46887c-f0f4-43c8-e5ed-cad322448243",
        "colab": {
          "base_uri": "https://localhost:8080/"
        }
      },
      "execution_count": null,
      "outputs": [
        {
          "output_type": "execute_result",
          "data": {
            "text/plain": [
              "6063.0"
            ]
          },
          "metadata": {},
          "execution_count": 20
        }
      ]
    },
    {
      "cell_type": "markdown",
      "source": [
        "2º Questão: Calcule a Variação percentual entre o preço médio da internet entre o início 2020 e 2021, usando como base o preço de 2021."
      ],
      "metadata": {
        "id": "cGLxmfE9JDtC"
      }
    },
    {
      "cell_type": "code",
      "source": [
        "df1['variation_rate'] = (df1['avg_price_start_2021'] - df1['avg_price_start_2020'])/df1['avg_price_start_2020']*100\n",
        "df1"
      ],
      "metadata": {
        "id": "CmqbbPHGEgi1",
        "outputId": "e38710af-ab1a-4d74-ddfd-7f85bc381311",
        "colab": {
          "base_uri": "https://localhost:8080/",
          "height": 609
        }
      },
      "execution_count": null,
      "outputs": [
        {
          "output_type": "execute_result",
          "data": {
            "text/plain": [
              "     Unnamed: 0 country_code           country_name country_continental  \\\n",
              "0             0           IL                 Israel           NEAR EAST   \n",
              "1             1           KG             Kyrgyzstan   CIS (FORMER USSR)   \n",
              "2             2           FJ                   Fiji             OCEANIA   \n",
              "3             3           IT                  Italy      WESTERN EUROPE   \n",
              "4             4           SD                  Sudan  SUB-SAHARAN AFRICA   \n",
              "..          ...          ...                    ...                 ...   \n",
              "219         225           MW                 Malawi  SUB-SAHARAN AFRICA   \n",
              "220         226           ST  São Tomé and Príncipe  SUB-SAHARAN AFRICA   \n",
              "221         227           SH           Saint Helena  SUB-SAHARAN AFRICA   \n",
              "222         228           FK       Falkland Islands       SOUTH AMERICA   \n",
              "223         229           GQ      Equatorial Guinea  SUB-SAHARAN AFRICA   \n",
              "\n",
              "     num_internet_plans  avg_price  min_price  max_price  \\\n",
              "0                  27.0       0.05       0.02      20.95   \n",
              "1                  20.0       0.15       0.10       7.08   \n",
              "2                  18.0       0.19       0.05       0.85   \n",
              "3                  29.0       0.27       0.09       3.54   \n",
              "4                  33.0       0.27       0.03       0.92   \n",
              "..                  ...        ...        ...        ...   \n",
              "219                 5.0      25.46      20.37      25.46   \n",
              "220                16.0      30.97      13.27     121.65   \n",
              "221                 4.0      39.87      38.57      51.42   \n",
              "222                 4.0      44.56      29.71      82.26   \n",
              "223                 4.0      49.67      45.16      63.22   \n",
              "\n",
              "     avg_price_start_2021  avg_price_start_2020  variation_rate  \n",
              "0                    0.11                  0.90      -87.777778  \n",
              "1                    0.21                  0.27      -22.222222  \n",
              "2                    0.59                  3.57      -83.473389  \n",
              "3                    0.43                  1.73      -75.144509  \n",
              "4                    0.63                  0.68       -7.352941  \n",
              "..                    ...                   ...             ...  \n",
              "219                 27.41                  3.59      663.509749  \n",
              "220                 28.26                  5.33      430.206379  \n",
              "221                 52.50                  6.04      769.205298  \n",
              "222                 40.41                 55.47      -27.149811  \n",
              "223                 12.78                 47.39      -73.032285  \n",
              "\n",
              "[224 rows x 11 columns]"
            ],
            "text/html": [
              "\n",
              "  <div id=\"df-991ca2de-07a7-4a9e-8cef-acee6821968c\">\n",
              "    <div class=\"colab-df-container\">\n",
              "      <div>\n",
              "<style scoped>\n",
              "    .dataframe tbody tr th:only-of-type {\n",
              "        vertical-align: middle;\n",
              "    }\n",
              "\n",
              "    .dataframe tbody tr th {\n",
              "        vertical-align: top;\n",
              "    }\n",
              "\n",
              "    .dataframe thead th {\n",
              "        text-align: right;\n",
              "    }\n",
              "</style>\n",
              "<table border=\"1\" class=\"dataframe\">\n",
              "  <thead>\n",
              "    <tr style=\"text-align: right;\">\n",
              "      <th></th>\n",
              "      <th>Unnamed: 0</th>\n",
              "      <th>country_code</th>\n",
              "      <th>country_name</th>\n",
              "      <th>country_continental</th>\n",
              "      <th>num_internet_plans</th>\n",
              "      <th>avg_price</th>\n",
              "      <th>min_price</th>\n",
              "      <th>max_price</th>\n",
              "      <th>avg_price_start_2021</th>\n",
              "      <th>avg_price_start_2020</th>\n",
              "      <th>variation_rate</th>\n",
              "    </tr>\n",
              "  </thead>\n",
              "  <tbody>\n",
              "    <tr>\n",
              "      <th>0</th>\n",
              "      <td>0</td>\n",
              "      <td>IL</td>\n",
              "      <td>Israel</td>\n",
              "      <td>NEAR EAST</td>\n",
              "      <td>27.0</td>\n",
              "      <td>0.05</td>\n",
              "      <td>0.02</td>\n",
              "      <td>20.95</td>\n",
              "      <td>0.11</td>\n",
              "      <td>0.90</td>\n",
              "      <td>-87.777778</td>\n",
              "    </tr>\n",
              "    <tr>\n",
              "      <th>1</th>\n",
              "      <td>1</td>\n",
              "      <td>KG</td>\n",
              "      <td>Kyrgyzstan</td>\n",
              "      <td>CIS (FORMER USSR)</td>\n",
              "      <td>20.0</td>\n",
              "      <td>0.15</td>\n",
              "      <td>0.10</td>\n",
              "      <td>7.08</td>\n",
              "      <td>0.21</td>\n",
              "      <td>0.27</td>\n",
              "      <td>-22.222222</td>\n",
              "    </tr>\n",
              "    <tr>\n",
              "      <th>2</th>\n",
              "      <td>2</td>\n",
              "      <td>FJ</td>\n",
              "      <td>Fiji</td>\n",
              "      <td>OCEANIA</td>\n",
              "      <td>18.0</td>\n",
              "      <td>0.19</td>\n",
              "      <td>0.05</td>\n",
              "      <td>0.85</td>\n",
              "      <td>0.59</td>\n",
              "      <td>3.57</td>\n",
              "      <td>-83.473389</td>\n",
              "    </tr>\n",
              "    <tr>\n",
              "      <th>3</th>\n",
              "      <td>3</td>\n",
              "      <td>IT</td>\n",
              "      <td>Italy</td>\n",
              "      <td>WESTERN EUROPE</td>\n",
              "      <td>29.0</td>\n",
              "      <td>0.27</td>\n",
              "      <td>0.09</td>\n",
              "      <td>3.54</td>\n",
              "      <td>0.43</td>\n",
              "      <td>1.73</td>\n",
              "      <td>-75.144509</td>\n",
              "    </tr>\n",
              "    <tr>\n",
              "      <th>4</th>\n",
              "      <td>4</td>\n",
              "      <td>SD</td>\n",
              "      <td>Sudan</td>\n",
              "      <td>SUB-SAHARAN AFRICA</td>\n",
              "      <td>33.0</td>\n",
              "      <td>0.27</td>\n",
              "      <td>0.03</td>\n",
              "      <td>0.92</td>\n",
              "      <td>0.63</td>\n",
              "      <td>0.68</td>\n",
              "      <td>-7.352941</td>\n",
              "    </tr>\n",
              "    <tr>\n",
              "      <th>...</th>\n",
              "      <td>...</td>\n",
              "      <td>...</td>\n",
              "      <td>...</td>\n",
              "      <td>...</td>\n",
              "      <td>...</td>\n",
              "      <td>...</td>\n",
              "      <td>...</td>\n",
              "      <td>...</td>\n",
              "      <td>...</td>\n",
              "      <td>...</td>\n",
              "      <td>...</td>\n",
              "    </tr>\n",
              "    <tr>\n",
              "      <th>219</th>\n",
              "      <td>225</td>\n",
              "      <td>MW</td>\n",
              "      <td>Malawi</td>\n",
              "      <td>SUB-SAHARAN AFRICA</td>\n",
              "      <td>5.0</td>\n",
              "      <td>25.46</td>\n",
              "      <td>20.37</td>\n",
              "      <td>25.46</td>\n",
              "      <td>27.41</td>\n",
              "      <td>3.59</td>\n",
              "      <td>663.509749</td>\n",
              "    </tr>\n",
              "    <tr>\n",
              "      <th>220</th>\n",
              "      <td>226</td>\n",
              "      <td>ST</td>\n",
              "      <td>São Tomé and Príncipe</td>\n",
              "      <td>SUB-SAHARAN AFRICA</td>\n",
              "      <td>16.0</td>\n",
              "      <td>30.97</td>\n",
              "      <td>13.27</td>\n",
              "      <td>121.65</td>\n",
              "      <td>28.26</td>\n",
              "      <td>5.33</td>\n",
              "      <td>430.206379</td>\n",
              "    </tr>\n",
              "    <tr>\n",
              "      <th>221</th>\n",
              "      <td>227</td>\n",
              "      <td>SH</td>\n",
              "      <td>Saint Helena</td>\n",
              "      <td>SUB-SAHARAN AFRICA</td>\n",
              "      <td>4.0</td>\n",
              "      <td>39.87</td>\n",
              "      <td>38.57</td>\n",
              "      <td>51.42</td>\n",
              "      <td>52.50</td>\n",
              "      <td>6.04</td>\n",
              "      <td>769.205298</td>\n",
              "    </tr>\n",
              "    <tr>\n",
              "      <th>222</th>\n",
              "      <td>228</td>\n",
              "      <td>FK</td>\n",
              "      <td>Falkland Islands</td>\n",
              "      <td>SOUTH AMERICA</td>\n",
              "      <td>4.0</td>\n",
              "      <td>44.56</td>\n",
              "      <td>29.71</td>\n",
              "      <td>82.26</td>\n",
              "      <td>40.41</td>\n",
              "      <td>55.47</td>\n",
              "      <td>-27.149811</td>\n",
              "    </tr>\n",
              "    <tr>\n",
              "      <th>223</th>\n",
              "      <td>229</td>\n",
              "      <td>GQ</td>\n",
              "      <td>Equatorial Guinea</td>\n",
              "      <td>SUB-SAHARAN AFRICA</td>\n",
              "      <td>4.0</td>\n",
              "      <td>49.67</td>\n",
              "      <td>45.16</td>\n",
              "      <td>63.22</td>\n",
              "      <td>12.78</td>\n",
              "      <td>47.39</td>\n",
              "      <td>-73.032285</td>\n",
              "    </tr>\n",
              "  </tbody>\n",
              "</table>\n",
              "<p>224 rows × 11 columns</p>\n",
              "</div>\n",
              "      <button class=\"colab-df-convert\" onclick=\"convertToInteractive('df-991ca2de-07a7-4a9e-8cef-acee6821968c')\"\n",
              "              title=\"Convert this dataframe to an interactive table.\"\n",
              "              style=\"display:none;\">\n",
              "        \n",
              "  <svg xmlns=\"http://www.w3.org/2000/svg\" height=\"24px\"viewBox=\"0 0 24 24\"\n",
              "       width=\"24px\">\n",
              "    <path d=\"M0 0h24v24H0V0z\" fill=\"none\"/>\n",
              "    <path d=\"M18.56 5.44l.94 2.06.94-2.06 2.06-.94-2.06-.94-.94-2.06-.94 2.06-2.06.94zm-11 1L8.5 8.5l.94-2.06 2.06-.94-2.06-.94L8.5 2.5l-.94 2.06-2.06.94zm10 10l.94 2.06.94-2.06 2.06-.94-2.06-.94-.94-2.06-.94 2.06-2.06.94z\"/><path d=\"M17.41 7.96l-1.37-1.37c-.4-.4-.92-.59-1.43-.59-.52 0-1.04.2-1.43.59L10.3 9.45l-7.72 7.72c-.78.78-.78 2.05 0 2.83L4 21.41c.39.39.9.59 1.41.59.51 0 1.02-.2 1.41-.59l7.78-7.78 2.81-2.81c.8-.78.8-2.07 0-2.86zM5.41 20L4 18.59l7.72-7.72 1.47 1.35L5.41 20z\"/>\n",
              "  </svg>\n",
              "      </button>\n",
              "      \n",
              "  <style>\n",
              "    .colab-df-container {\n",
              "      display:flex;\n",
              "      flex-wrap:wrap;\n",
              "      gap: 12px;\n",
              "    }\n",
              "\n",
              "    .colab-df-convert {\n",
              "      background-color: #E8F0FE;\n",
              "      border: none;\n",
              "      border-radius: 50%;\n",
              "      cursor: pointer;\n",
              "      display: none;\n",
              "      fill: #1967D2;\n",
              "      height: 32px;\n",
              "      padding: 0 0 0 0;\n",
              "      width: 32px;\n",
              "    }\n",
              "\n",
              "    .colab-df-convert:hover {\n",
              "      background-color: #E2EBFA;\n",
              "      box-shadow: 0px 1px 2px rgba(60, 64, 67, 0.3), 0px 1px 3px 1px rgba(60, 64, 67, 0.15);\n",
              "      fill: #174EA6;\n",
              "    }\n",
              "\n",
              "    [theme=dark] .colab-df-convert {\n",
              "      background-color: #3B4455;\n",
              "      fill: #D2E3FC;\n",
              "    }\n",
              "\n",
              "    [theme=dark] .colab-df-convert:hover {\n",
              "      background-color: #434B5C;\n",
              "      box-shadow: 0px 1px 3px 1px rgba(0, 0, 0, 0.15);\n",
              "      filter: drop-shadow(0px 1px 2px rgba(0, 0, 0, 0.3));\n",
              "      fill: #FFFFFF;\n",
              "    }\n",
              "  </style>\n",
              "\n",
              "      <script>\n",
              "        const buttonEl =\n",
              "          document.querySelector('#df-991ca2de-07a7-4a9e-8cef-acee6821968c button.colab-df-convert');\n",
              "        buttonEl.style.display =\n",
              "          google.colab.kernel.accessAllowed ? 'block' : 'none';\n",
              "\n",
              "        async function convertToInteractive(key) {\n",
              "          const element = document.querySelector('#df-991ca2de-07a7-4a9e-8cef-acee6821968c');\n",
              "          const dataTable =\n",
              "            await google.colab.kernel.invokeFunction('convertToInteractive',\n",
              "                                                     [key], {});\n",
              "          if (!dataTable) return;\n",
              "\n",
              "          const docLinkHtml = 'Like what you see? Visit the ' +\n",
              "            '<a target=\"_blank\" href=https://colab.research.google.com/notebooks/data_table.ipynb>data table notebook</a>'\n",
              "            + ' to learn more about interactive tables.';\n",
              "          element.innerHTML = '';\n",
              "          dataTable['output_type'] = 'display_data';\n",
              "          await google.colab.output.renderOutput(dataTable, element);\n",
              "          const docLink = document.createElement('div');\n",
              "          docLink.innerHTML = docLinkHtml;\n",
              "          element.appendChild(docLink);\n",
              "        }\n",
              "      </script>\n",
              "    </div>\n",
              "  </div>\n",
              "  "
            ]
          },
          "metadata": {},
          "execution_count": 33
        }
      ]
    },
    {
      "cell_type": "markdown",
      "source": [
        "3º Questão:Calcule o preço médio geral da internet dos países que sejam da SOUTH AMERICA. \n",
        "Dica:\n",
        "\n",
        "1.   Se dejesa filtrar uma dataframe por um valor de \n",
        "uma coluna basta você fazer df[df['Nome da coluna'] == valor].\n",
        "2.   Não calcule a média da média de preços, você \n",
        "deve descobrir a soma total dos preços destes países e depois dividir pelo número total de planos.\n"
      ],
      "metadata": {
        "id": "ATAybooZK8Al"
      }
    },
    {
      "cell_type": "code",
      "source": [
        "df1_SouthAmerica = df1[df1['country_continental']=='SOUTH AMERICA']\n",
        "(df1_SouthAmerica['avg_price']*df1_SouthAmerica['num_internet_plans']).sum()/df1_SouthAmerica['num_internet_plans'].sum()"
      ],
      "metadata": {
        "id": "AQFZ1HJEK1-j",
        "outputId": "a0607d7d-76d7-4082-e4db-ae55738c1e57",
        "colab": {
          "base_uri": "https://localhost:8080/"
        }
      },
      "execution_count": null,
      "outputs": [
        {
          "output_type": "execute_result",
          "data": {
            "text/plain": [
              "2.1606823529411763"
            ]
          },
          "metadata": {},
          "execution_count": 51
        }
      ]
    }
  ]
}